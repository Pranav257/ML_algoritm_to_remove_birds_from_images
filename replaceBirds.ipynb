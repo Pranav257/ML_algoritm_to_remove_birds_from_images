{
 "cells": [
  {
   "cell_type": "code",
   "execution_count": 2,
   "id": "72531fca",
   "metadata": {},
   "outputs": [
    {
     "name": "stderr",
     "output_type": "stream",
     "text": [
      "text_encoder/model.safetensors not found\n",
      "`text_config_dict` is provided which will be used to initialize `CLIPTextConfig`. The value `text_config[\"id2label\"]` will be overriden.\n",
      "100%|███████████████████████████████████████████| 50/50 [21:35<00:00, 25.92s/it]\n",
      "100%|███████████████████████████████████████████| 50/50 [28:12<00:00, 33.85s/it]\n",
      "100%|███████████████████████████████████████████| 50/50 [22:31<00:00, 27.04s/it]\n",
      "100%|███████████████████████████████████████████| 50/50 [23:26<00:00, 28.13s/it]\n",
      "100%|███████████████████████████████████████████| 50/50 [27:32<00:00, 33.05s/it]\n"
     ]
    }
   ],
   "source": [
    "#!/usr/bin/env python\n",
    "# coding: utf-8\n",
    "\n",
    "# In[7]:\n",
    "\n",
    "\n",
    "from PIL import Image\n",
    "from diffusers import StableDiffusionInpaintPipeline\n",
    "\n",
    "# Provide the paths to the image files and their corresponding masks\n",
    "image_paths = [\n",
    "    \"b4.jpeg\",\n",
    "    \"b2.jpeg\",\n",
    "    \"b3.jpeg\",\n",
    "    \"b5.jpeg\",\n",
    "    \"b6.jpeg\",\n",
    "]\n",
    "mask_paths = [\n",
    "    \"mask_b4..jpeg\",\n",
    "    \"mask_b2..jpeg\",\n",
    "    \"mask_b3..jpeg\",\n",
    "    \"mask_b5..jpeg\",\n",
    "    \"mask_b6..jpeg\",\n",
    "]\n",
    "\n",
    "# Load the pre-trained model\n",
    "pipeline = StableDiffusionInpaintPipeline.from_pretrained(\"runwayml/stable-diffusion-inpainting\")\n",
    "pipeline = pipeline.to('cpu')\n",
    "\n",
    "# Perform inpainting on each image\n",
    "for i in range(len(image_paths)):\n",
    "    image_path = image_paths[i]\n",
    "    mask_path = mask_paths[i]\n",
    "    init_image = Image.open(image_path).resize((512, 512))\n",
    "    mask_image = Image.open(mask_path).resize((512, 512))\n",
    "    prompt = 'Bird replaced, high resolution'\n",
    "    inpainted_image = pipeline(prompt=prompt, image=init_image, mask_image=mask_image).images[0]\n",
    "\n",
    "    output_filename = f\"-Birdsreplaced{i+2}.jpeg\"\n",
    "    inpainted_image.save(output_filename)\n",
    "\n",
    "\n",
    "# In[ ]:\n",
    "\n",
    "\n",
    "\n",
    "\n"
   ]
  },
  {
   "cell_type": "code",
   "execution_count": null,
   "id": "08317860",
   "metadata": {},
   "outputs": [],
   "source": []
  }
 ],
 "metadata": {
  "kernelspec": {
   "display_name": "Python 3 (ipykernel)",
   "language": "python",
   "name": "python3"
  },
  "language_info": {
   "codemirror_mode": {
    "name": "ipython",
    "version": 3
   },
   "file_extension": ".py",
   "mimetype": "text/x-python",
   "name": "python",
   "nbconvert_exporter": "python",
   "pygments_lexer": "ipython3",
   "version": "3.10.9"
  }
 },
 "nbformat": 4,
 "nbformat_minor": 5
}
